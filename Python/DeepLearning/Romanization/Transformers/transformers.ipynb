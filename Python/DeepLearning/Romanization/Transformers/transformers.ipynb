{
 "cells": [
  {
   "cell_type": "markdown",
   "metadata": {},
   "source": [
    "# Romanization using Transformers"
   ]
  },
  {
   "cell_type": "code",
   "execution_count": 1,
   "metadata": {},
   "outputs": [
    {
     "name": "stderr",
     "output_type": "stream",
     "text": [
      "2022-12-12 21:30:28.699643: I tensorflow/core/platform/cpu_feature_guard.cc:193] This TensorFlow binary is optimized with oneAPI Deep Neural Network Library (oneDNN) to use the following CPU instructions in performance-critical operations:  SSE4.1 SSE4.2 AVX AVX2 AVX_VNNI FMA\n",
      "To enable them in other operations, rebuild TensorFlow with the appropriate compiler flags.\n",
      "2022-12-12 21:30:28.736399: I tensorflow/core/util/util.cc:169] oneDNN custom operations are on. You may see slightly different numerical results due to floating-point round-off errors from different computation orders. To turn them off, set the environment variable `TF_ENABLE_ONEDNN_OPTS=0`.\n"
     ]
    }
   ],
   "source": [
    "import tensorflow as tf\n",
    "import numpy as np\n",
    "from hangul_utils import split_syllables, join_jamos\n",
    "import pickle"
   ]
  },
  {
   "cell_type": "code",
   "execution_count": 2,
   "metadata": {},
   "outputs": [
    {
     "name": "stdout",
     "output_type": "stream",
     "text": [
      "Num GPUs Available:  1\n"
     ]
    },
    {
     "name": "stderr",
     "output_type": "stream",
     "text": [
      "2022-12-12 21:30:29.548308: I tensorflow/stream_executor/cuda/cuda_gpu_executor.cc:980] successful NUMA node read from SysFS had negative value (-1), but there must be at least one NUMA node, so returning NUMA node zero\n",
      "2022-12-12 21:30:29.563871: I tensorflow/stream_executor/cuda/cuda_gpu_executor.cc:980] successful NUMA node read from SysFS had negative value (-1), but there must be at least one NUMA node, so returning NUMA node zero\n",
      "2022-12-12 21:30:29.564000: I tensorflow/stream_executor/cuda/cuda_gpu_executor.cc:980] successful NUMA node read from SysFS had negative value (-1), but there must be at least one NUMA node, so returning NUMA node zero\n"
     ]
    }
   ],
   "source": [
    "print(\"Num GPUs Available: \", len(tf.config.list_physical_devices('GPU')))"
   ]
  },
  {
   "cell_type": "code",
   "execution_count": 3,
   "metadata": {},
   "outputs": [],
   "source": [
    "gpus = tf.config.list_physical_devices('GPU')"
   ]
  },
  {
   "cell_type": "code",
   "execution_count": 4,
   "metadata": {},
   "outputs": [],
   "source": [
    "tf.config.experimental.set_memory_growth(gpus[0], True)"
   ]
  },
  {
   "cell_type": "markdown",
   "metadata": {},
   "source": [
    "## Data Generation"
   ]
  },
  {
   "cell_type": "code",
   "execution_count": 5,
   "metadata": {},
   "outputs": [],
   "source": [
    "with open(\"kor_syllable.pkl\", \"rb\") as f:\n",
    "    kr_list = pickle.load(f)"
   ]
  },
  {
   "cell_type": "code",
   "execution_count": 6,
   "metadata": {},
   "outputs": [],
   "source": [
    "with open(\"eng_syllable.pkl\", \"rb\") as f:\n",
    "    en_list = pickle.load(f)"
   ]
  },
  {
   "cell_type": "code",
   "execution_count": 7,
   "metadata": {},
   "outputs": [
    {
     "data": {
      "text/plain": [
       "86191"
      ]
     },
     "execution_count": 7,
     "metadata": {},
     "output_type": "execute_result"
    }
   ],
   "source": [
    "len(kr_list)"
   ]
  },
  {
   "cell_type": "code",
   "execution_count": 8,
   "metadata": {},
   "outputs": [
    {
     "data": {
      "text/plain": [
       "86191"
      ]
     },
     "execution_count": 8,
     "metadata": {},
     "output_type": "execute_result"
    }
   ],
   "source": [
    "len(en_list)"
   ]
  },
  {
   "cell_type": "code",
   "execution_count": 9,
   "metadata": {},
   "outputs": [],
   "source": [
    "# Get indices for kor character\n",
    "temp_dict_kr = {}\n",
    "temp_dict_kr[\"<sos>\"] = 0 # Not used for now\n",
    "temp_dict_kr[\"<eos>\"] = 0 # Not used for now\n",
    "for string in kr_list:\n",
    "    for char in string:\n",
    "        temp_dict_kr[char] = 0"
   ]
  },
  {
   "cell_type": "code",
   "execution_count": 10,
   "metadata": {},
   "outputs": [],
   "source": [
    "# Get indices for eng character\n",
    "temp_dict_en = {}\n",
    "temp_dict_en[\"<sos>\"] = 0 # Not used for now\n",
    "temp_dict_en[\"<eos>\"] = 0 # Not used for now\n",
    "temp_dict_en[\"-\"] = 0\n",
    "for string in en_list:\n",
    "    for char in string:\n",
    "        temp_dict_en[char] = 0"
   ]
  },
  {
   "cell_type": "code",
   "execution_count": 11,
   "metadata": {},
   "outputs": [
    {
     "data": {
      "text/plain": [
       "45"
      ]
     },
     "execution_count": 11,
     "metadata": {},
     "output_type": "execute_result"
    }
   ],
   "source": [
    "len(temp_dict_kr)"
   ]
  },
  {
   "cell_type": "code",
   "execution_count": 12,
   "metadata": {},
   "outputs": [
    {
     "data": {
      "text/plain": [
       "29"
      ]
     },
     "execution_count": 12,
     "metadata": {},
     "output_type": "execute_result"
    }
   ],
   "source": [
    "len(temp_dict_en)"
   ]
  },
  {
   "cell_type": "code",
   "execution_count": 13,
   "metadata": {},
   "outputs": [],
   "source": [
    "indices_dict_kr = {}\n",
    "key_list = list(temp_dict_kr.keys())\n",
    "for i in range(len(temp_dict_kr)):\n",
    "    indices_dict_kr[key_list[i]] = i+1 # 0th index for padding"
   ]
  },
  {
   "cell_type": "code",
   "execution_count": 14,
   "metadata": {},
   "outputs": [
    {
     "data": {
      "text/plain": [
       "1"
      ]
     },
     "execution_count": 14,
     "metadata": {},
     "output_type": "execute_result"
    }
   ],
   "source": [
    "indices_dict_kr[\"<sos>\"]"
   ]
  },
  {
   "cell_type": "code",
   "execution_count": 15,
   "metadata": {},
   "outputs": [
    {
     "data": {
      "text/plain": [
       "2"
      ]
     },
     "execution_count": 15,
     "metadata": {},
     "output_type": "execute_result"
    }
   ],
   "source": [
    "indices_dict_kr[\"<eos>\"]"
   ]
  },
  {
   "cell_type": "code",
   "execution_count": 16,
   "metadata": {},
   "outputs": [],
   "source": [
    "indices_dict_en = {}\n",
    "key_list = list(temp_dict_en.keys())\n",
    "for i in range(len(temp_dict_en)):\n",
    "    indices_dict_en[key_list[i]] = i+1 # 0th index for padding"
   ]
  },
  {
   "cell_type": "code",
   "execution_count": 17,
   "metadata": {},
   "outputs": [
    {
     "data": {
      "text/plain": [
       "1"
      ]
     },
     "execution_count": 17,
     "metadata": {},
     "output_type": "execute_result"
    }
   ],
   "source": [
    "indices_dict_en[\"<sos>\"]"
   ]
  },
  {
   "cell_type": "code",
   "execution_count": 18,
   "metadata": {},
   "outputs": [],
   "source": [
    "# Memory management:\n",
    "kr_list = kr_list[0:len(kr_list)//7]\n",
    "en_list = en_list[0:len(en_list)//7]"
   ]
  },
  {
   "cell_type": "code",
   "execution_count": 19,
   "metadata": {},
   "outputs": [
    {
     "data": {
      "text/plain": [
       "12313"
      ]
     },
     "execution_count": 19,
     "metadata": {},
     "output_type": "execute_result"
    }
   ],
   "source": [
    "len(kr_list)"
   ]
  },
  {
   "cell_type": "code",
   "execution_count": 20,
   "metadata": {},
   "outputs": [],
   "source": [
    "def char_to_idx(string, indices_dict):\n",
    "    index_list = []\n",
    "    index_list.append(1) #<sos> append by default\n",
    "    for char in string:\n",
    "        index_list.append(indices_dict[char])\n",
    "    index_list.append(2) #<eos> append by default\n",
    "    return index_list"
   ]
  },
  {
   "cell_type": "code",
   "execution_count": 21,
   "metadata": {},
   "outputs": [
    {
     "data": {
      "text/plain": [
       "[1, 3, 4, 5, 6, 7, 5, 7, 8, 9, 10, 2]"
      ]
     },
     "execution_count": 21,
     "metadata": {},
     "output_type": "execute_result"
    }
   ],
   "source": [
    "char_to_idx(kr_list[0], indices_dict_kr)"
   ]
  },
  {
   "cell_type": "code",
   "execution_count": 22,
   "metadata": {},
   "outputs": [],
   "source": [
    "reversed_dict_kr = {}\n",
    "for key in indices_dict_kr.keys():\n",
    "    reversed_dict_kr[indices_dict_kr[key]] = key"
   ]
  },
  {
   "cell_type": "code",
   "execution_count": 23,
   "metadata": {},
   "outputs": [],
   "source": [
    "reversed_dict_en = {}\n",
    "for key in indices_dict_en.keys():\n",
    "    reversed_dict_en[indices_dict_en[key]] = key"
   ]
  },
  {
   "cell_type": "code",
   "execution_count": 24,
   "metadata": {},
   "outputs": [],
   "source": [
    "def idxlist_to_char(idxlist, reversed_dict):\n",
    "    result_list = []\n",
    "    for idx in idxlist:\n",
    "        if idx == 0: # padding idx\n",
    "            break\n",
    "        result_list.append(reversed_dict[int(idx)])\n",
    "    return result_list"
   ]
  },
  {
   "cell_type": "code",
   "execution_count": 25,
   "metadata": {},
   "outputs": [
    {
     "data": {
      "text/plain": [
       "['<sos>', 'ㅈ', 'ㅓ', 'ㄴ', 'ㄹ', 'ㅏ', 'ㄴ', 'ㅏ', 'ㅁ', 'ㄷ', 'ㅗ', '<eos>']"
      ]
     },
     "execution_count": 25,
     "metadata": {},
     "output_type": "execute_result"
    }
   ],
   "source": [
    "idxlist_to_char(char_to_idx(kr_list[0], indices_dict_kr), reversed_dict_kr)"
   ]
  },
  {
   "cell_type": "code",
   "execution_count": 26,
   "metadata": {},
   "outputs": [
    {
     "data": {
      "text/plain": [
       "['<sos>', 'j', 'e', 'o', 'l', 'l', 'a', 'n', 'a', 'm', '-', 'd', 'o', '<eos>']"
      ]
     },
     "execution_count": 26,
     "metadata": {},
     "output_type": "execute_result"
    }
   ],
   "source": [
    "idxlist_to_char(char_to_idx(en_list[0], indices_dict_en), reversed_dict_en)"
   ]
  },
  {
   "cell_type": "code",
   "execution_count": 27,
   "metadata": {},
   "outputs": [],
   "source": [
    "def generate_data(str_list, indices_dict, is_target = False):\n",
    "    result_list = []\n",
    "    result_list_targ = []\n",
    "    for string in str_list:\n",
    "        idx_list = char_to_idx(string, indices_dict)\n",
    "        if is_target:\n",
    "            nparr = np.array(idx_list[:-1])\n",
    "            result_list.append(idx_list[:-1])\n",
    "            result_list_targ.append(idx_list[1:])\n",
    "        else:\n",
    "            result_list.append(idx_list)\n",
    "    if is_target:\n",
    "        return result_list, result_list_targ\n",
    "    else:\n",
    "        return result_list"
   ]
  },
  {
   "cell_type": "code",
   "execution_count": 28,
   "metadata": {},
   "outputs": [],
   "source": [
    "en_data = generate_data(en_list, indices_dict_en)\n",
    "kr_data, kr_data_label = generate_data(kr_list, indices_dict_kr, is_target=True)"
   ]
  },
  {
   "cell_type": "markdown",
   "metadata": {},
   "source": [
    "### We need to pad"
   ]
  },
  {
   "cell_type": "code",
   "execution_count": 29,
   "metadata": {},
   "outputs": [
    {
     "data": {
      "text/plain": [
       "35"
      ]
     },
     "execution_count": 29,
     "metadata": {},
     "output_type": "execute_result"
    }
   ],
   "source": [
    "en_data_max = max(list(map(len, en_data)))\n",
    "en_data_max"
   ]
  },
  {
   "cell_type": "code",
   "execution_count": 30,
   "metadata": {},
   "outputs": [
    {
     "data": {
      "text/plain": [
       "27"
      ]
     },
     "execution_count": 30,
     "metadata": {},
     "output_type": "execute_result"
    }
   ],
   "source": [
    "kr_data_max = max(list(map(len, kr_data)))\n",
    "kr_data_max"
   ]
  },
  {
   "cell_type": "code",
   "execution_count": 31,
   "metadata": {},
   "outputs": [],
   "source": [
    "def get_padded_arr(idxlist, maxlen):\n",
    "    result = []\n",
    "    for item in idxlist:\n",
    "        arr = np.zeros(maxlen)\n",
    "        for i, sub in enumerate(item):\n",
    "            arr[i] = sub\n",
    "        result.append(arr)\n",
    "    return result"
   ]
  },
  {
   "cell_type": "code",
   "execution_count": 32,
   "metadata": {},
   "outputs": [],
   "source": [
    "en_data = get_padded_arr(en_data, en_data_max)\n",
    "kr_data = get_padded_arr(kr_data, kr_data_max)\n",
    "kr_data_label = get_padded_arr(kr_data_label, kr_data_max)"
   ]
  },
  {
   "cell_type": "markdown",
   "metadata": {},
   "source": [
    "## Splitting data:"
   ]
  },
  {
   "cell_type": "code",
   "execution_count": 33,
   "metadata": {},
   "outputs": [],
   "source": [
    "import random # For Shuffling\n",
    "random.seed(2022)"
   ]
  },
  {
   "cell_type": "markdown",
   "metadata": {},
   "source": [
    "#### Shuffle"
   ]
  },
  {
   "cell_type": "code",
   "execution_count": 34,
   "metadata": {},
   "outputs": [],
   "source": [
    "zipped = zip(en_data, kr_data, kr_data_label)\n",
    "zipped_list = list(zipped)"
   ]
  },
  {
   "cell_type": "code",
   "execution_count": 35,
   "metadata": {},
   "outputs": [],
   "source": [
    "random.shuffle(zipped_list)"
   ]
  },
  {
   "cell_type": "code",
   "execution_count": 36,
   "metadata": {},
   "outputs": [],
   "source": [
    "en_data = []\n",
    "kr_data = []\n",
    "kr_data_label = []\n",
    "for tup in zipped_list:\n",
    "    en_data.append(tup[0])\n",
    "    kr_data.append(tup[1])\n",
    "    kr_data_label.append(tup[2])"
   ]
  },
  {
   "cell_type": "code",
   "execution_count": 37,
   "metadata": {},
   "outputs": [],
   "source": [
    "# Save the dictionaries:\n",
    "with open(\"indices_kr.pkl\", \"wb\") as f:\n",
    "    pickle.dump(indices_dict_kr, f)\n",
    "with open(\"indices_en.pkl\", \"wb\") as f:\n",
    "    pickle.dump(indices_dict_en, f)\n",
    "with open(\"rev_indices_kr.pkl\", \"wb\") as f:\n",
    "    pickle.dump(reversed_dict_kr, f)\n",
    "with open(\"rev_indices_en.pkl\", \"wb\") as f:\n",
    "    pickle.dump(reversed_dict_en, f)"
   ]
  },
  {
   "cell_type": "markdown",
   "metadata": {},
   "source": [
    "#### (Train-Val)-Test split:"
   ]
  },
  {
   "cell_type": "code",
   "execution_count": 38,
   "metadata": {},
   "outputs": [],
   "source": [
    "# 80-20 split. No test data, will test with just some examples\n",
    "x_en_train = en_data[0: round(len(en_data)*0.8)]\n",
    "x_en_test = en_data[round(len(en_data)*0.8) :]\n",
    "x_kr_train = kr_data[0: round(len(kr_data)*0.8)]\n",
    "x_kr_test = kr_data[round(len(kr_data)*0.8) : ]\n",
    "y_kr_train = kr_data_label[0: round(len(kr_data_label)*0.8)]\n",
    "y_kr_test = kr_data_label[round(len(kr_data_label)*0.8) : ]"
   ]
  },
  {
   "cell_type": "markdown",
   "metadata": {},
   "source": [
    "### Batches:"
   ]
  },
  {
   "cell_type": "code",
   "execution_count": 39,
   "metadata": {},
   "outputs": [],
   "source": [
    "# def generate_batches(data, n_batch):\n",
    "#     result = []\n",
    "#     data = data.copy()\n",
    "#     if len(data) % n_batch != 0:\n",
    "#         fill = n_batch - (len(data) % n_batch)\n",
    "#         fill_idxs = [random.randint(0, len(data)-1) for _ in range(fill)] # pick random integers to duplicate data\n",
    "#         for idx in fill_idxs:\n",
    "#             data.append(data[idx])\n",
    "#     for i in range(0, len(data), n_batch):\n",
    "#         result.append(data[i:i+n_batch])\n",
    "#     return tf.convert_to_tensor(result, dtype = tf.float32)"
   ]
  },
  {
   "cell_type": "code",
   "execution_count": 40,
   "metadata": {},
   "outputs": [],
   "source": [
    "# # Train dataset\n",
    "# x_en_train = generate_batches(x_en_train, 64)\n",
    "# x_kr_train = generate_batches(x_kr_train, 64)\n",
    "# y_kr_train = generate_batches(y_kr_train, 64)"
   ]
  },
  {
   "cell_type": "code",
   "execution_count": 41,
   "metadata": {},
   "outputs": [],
   "source": [
    "# # Test dataset\n",
    "# x_en_test = tf.convert_to_tensor(x_en_test, dtype = tf.float32)\n",
    "# x_kr_test = tf.convert_to_tensor(x_kr_test, dtype = tf.float32)\n",
    "# y_kr_test = tf.convert_to_tensor(y_kr_test, dtype = tf.float32)"
   ]
  },
  {
   "cell_type": "markdown",
   "metadata": {},
   "source": [
    "## Memory management:\n",
    "Delete:\n",
    "- kr_list\n",
    "- en_list\n",
    "- zipped\n",
    "- en_data\n",
    "- kr_data\n",
    "- kr_data_label"
   ]
  },
  {
   "cell_type": "code",
   "execution_count": 42,
   "metadata": {},
   "outputs": [],
   "source": [
    "del kr_list, en_list, zipped, en_data, kr_data, kr_data_label"
   ]
  },
  {
   "cell_type": "markdown",
   "metadata": {},
   "source": [
    "# Modeling\n",
    "## Code Acquired from Tensorflow "
   ]
  },
  {
   "cell_type": "code",
   "execution_count": 43,
   "metadata": {},
   "outputs": [],
   "source": [
    "# Positional encoding using the traditional Sinusoidal functions\n",
    "def positional_encoding(length, depth):\n",
    "  depth = depth/2\n",
    "\n",
    "  positions = np.arange(length)[:, np.newaxis]     # (seq, 1)\n",
    "  depths = np.arange(depth)[np.newaxis, :]/depth   # (1, depth)\n",
    "\n",
    "  angle_rates = 1 / (10000**depths)         # (1, depth)\n",
    "  angle_rads = positions * angle_rates      # (pos, depth)\n",
    "\n",
    "  pos_encoding = np.concatenate(\n",
    "      [np.sin(angle_rads), np.cos(angle_rads)],\n",
    "      axis=-1) \n",
    "\n",
    "  return tf.cast(pos_encoding, dtype=tf.float32)\n"
   ]
  },
  {
   "cell_type": "code",
   "execution_count": 44,
   "metadata": {},
   "outputs": [],
   "source": [
    "# Positional embedding to be concatenated\n",
    "class PositionalEmbedding(tf.keras.layers.Layer):\n",
    "  def __init__(self, vocab_size, d_model):\n",
    "    super().__init__()\n",
    "    self.d_model = d_model\n",
    "    self.embedding = tf.keras.layers.Embedding(vocab_size, d_model, mask_zero=True) \n",
    "    self.pos_encoding = positional_encoding(length=2048, depth=d_model)\n",
    "\n",
    "  def compute_mask(self, *args, **kwargs):\n",
    "    return self.embedding.compute_mask(*args, **kwargs)\n",
    "\n",
    "  def call(self, x):\n",
    "    length = tf.shape(x)[1]\n",
    "    x = self.embedding(x)\n",
    "    # This factor sets the relative scale of the embedding and positonal_encoding.\n",
    "    x *= tf.math.sqrt(tf.cast(self.d_model, tf.float32))\n",
    "    x = x + self.pos_encoding[tf.newaxis, :length, :]\n",
    "    return x"
   ]
  },
  {
   "cell_type": "code",
   "execution_count": 45,
   "metadata": {},
   "outputs": [],
   "source": [
    "class BaseAttention(tf.keras.layers.Layer):\n",
    "  def __init__(self, **kwargs):\n",
    "    super().__init__()\n",
    "    self.mha = tf.keras.layers.MultiHeadAttention(**kwargs)\n",
    "    self.layernorm = tf.keras.layers.LayerNormalization()\n",
    "    self.add = tf.keras.layers.Add()"
   ]
  },
  {
   "cell_type": "code",
   "execution_count": 46,
   "metadata": {},
   "outputs": [],
   "source": [
    "class CrossAttention(BaseAttention):\n",
    "  def call(self, x, context):\n",
    "    attn_output, attn_scores = self.mha(\n",
    "        query=x,\n",
    "        key=context,\n",
    "        value=context,\n",
    "        return_attention_scores=True)\n",
    "\n",
    "    # Cache the attention scores for plotting later.\n",
    "    self.last_attn_scores = attn_scores\n",
    "\n",
    "    x = self.add([x, attn_output])\n",
    "    x = self.layernorm(x)\n",
    "\n",
    "    return x\n"
   ]
  },
  {
   "cell_type": "code",
   "execution_count": 47,
   "metadata": {},
   "outputs": [],
   "source": [
    "class GlobalSelfAttention(BaseAttention):\n",
    "  def call(self, x):\n",
    "    attn_output = self.mha(\n",
    "        query=x,\n",
    "        value=x,\n",
    "        key=x)\n",
    "    x = self.add([x, attn_output])\n",
    "    x = self.layernorm(x)\n",
    "    return x\n"
   ]
  },
  {
   "cell_type": "code",
   "execution_count": 48,
   "metadata": {},
   "outputs": [],
   "source": [
    "class CausalSelfAttention(BaseAttention):\n",
    "  def call(self, x):\n",
    "    attn_output = self.mha(\n",
    "        query=x,\n",
    "        value=x,\n",
    "        key=x,\n",
    "        use_causal_mask = True)\n",
    "    x = self.add([x, attn_output])\n",
    "    x = self.layernorm(x)\n",
    "    return x\n"
   ]
  },
  {
   "cell_type": "code",
   "execution_count": 49,
   "metadata": {},
   "outputs": [],
   "source": [
    "class FeedForward(tf.keras.layers.Layer):\n",
    "  def __init__(self, d_model, dff, dropout_rate=0.1):\n",
    "    super().__init__()\n",
    "    self.seq = tf.keras.Sequential([\n",
    "      tf.keras.layers.Dense(dff, activation='relu'),\n",
    "      tf.keras.layers.Dense(d_model),\n",
    "      tf.keras.layers.Dropout(dropout_rate)\n",
    "    ])\n",
    "    self.add = tf.keras.layers.Add()\n",
    "    self.layer_norm = tf.keras.layers.LayerNormalization()\n",
    "\n",
    "  def call(self, x):\n",
    "    x = self.add([x, self.seq(x)])\n",
    "    x = self.layer_norm(x) \n",
    "    return x\n"
   ]
  },
  {
   "cell_type": "code",
   "execution_count": 50,
   "metadata": {},
   "outputs": [],
   "source": [
    "class EncoderLayer(tf.keras.layers.Layer):\n",
    "  def __init__(self,*, d_model, num_heads, dff, dropout_rate=0.1):\n",
    "    super().__init__()\n",
    "\n",
    "    self.self_attention = GlobalSelfAttention(\n",
    "        num_heads=num_heads,\n",
    "        key_dim=d_model,\n",
    "        dropout=dropout_rate)\n",
    "\n",
    "    self.ffn = FeedForward(d_model, dff)\n",
    "\n",
    "  def call(self, x):\n",
    "    x = self.self_attention(x)\n",
    "    x = self.ffn(x)\n",
    "    return x\n"
   ]
  },
  {
   "cell_type": "code",
   "execution_count": 51,
   "metadata": {},
   "outputs": [],
   "source": [
    "class Encoder(tf.keras.layers.Layer):\n",
    "  def __init__(self, *, num_layers, d_model, num_heads,\n",
    "               dff, vocab_size, dropout_rate=0.1):\n",
    "    super().__init__()\n",
    "\n",
    "    self.d_model = d_model\n",
    "    self.num_layers = num_layers\n",
    "\n",
    "    self.pos_embedding = PositionalEmbedding(\n",
    "        vocab_size=vocab_size, d_model=d_model)\n",
    "\n",
    "    self.enc_layers = [\n",
    "        EncoderLayer(d_model=d_model,\n",
    "                     num_heads=num_heads,\n",
    "                     dff=dff,\n",
    "                     dropout_rate=dropout_rate)\n",
    "        for _ in range(num_layers)]\n",
    "    self.dropout = tf.keras.layers.Dropout(dropout_rate)\n",
    "\n",
    "  def call(self, x):\n",
    "    # `x` is token-IDs shape: (batch, seq_len)\n",
    "    x = self.pos_embedding(x)  # Shape `(batch_size, seq_len, d_model)`.\n",
    "\n",
    "    # Add dropout.\n",
    "    x = self.dropout(x)\n",
    "\n",
    "    for i in range(self.num_layers):\n",
    "      x = self.enc_layers[i](x)\n",
    "\n",
    "    return x  # Shape `(batch_size, seq_len, d_model)`.\n"
   ]
  },
  {
   "cell_type": "code",
   "execution_count": 52,
   "metadata": {},
   "outputs": [],
   "source": [
    "class DecoderLayer(tf.keras.layers.Layer):\n",
    "  def __init__(self,\n",
    "               *,\n",
    "               d_model,\n",
    "               num_heads,\n",
    "               dff,\n",
    "               dropout_rate=0.1):\n",
    "    super(DecoderLayer, self).__init__()\n",
    "\n",
    "    self.causal_self_attention = CausalSelfAttention(\n",
    "        num_heads=num_heads,\n",
    "        key_dim=d_model,\n",
    "        dropout=dropout_rate)\n",
    "\n",
    "    self.cross_attention = CrossAttention(\n",
    "        num_heads=num_heads,\n",
    "        key_dim=d_model,\n",
    "        dropout=dropout_rate)\n",
    "\n",
    "    self.ffn = FeedForward(d_model, dff)\n",
    "\n",
    "  def call(self, x, context):\n",
    "    x = self.causal_self_attention(x=x)\n",
    "    x = self.cross_attention(x=x, context=context)\n",
    "\n",
    "    # Cache the last attention scores for plotting later\n",
    "    self.last_attn_scores = self.cross_attention.last_attn_scores\n",
    "\n",
    "    x = self.ffn(x)  # Shape `(batch_size, seq_len, d_model)`.\n",
    "    return x\n"
   ]
  },
  {
   "cell_type": "code",
   "execution_count": 53,
   "metadata": {},
   "outputs": [],
   "source": [
    "class Decoder(tf.keras.layers.Layer):\n",
    "  def __init__(self, *, num_layers, d_model, num_heads, dff, vocab_size,\n",
    "               dropout_rate=0.1):\n",
    "    super(Decoder, self).__init__()\n",
    "\n",
    "    self.d_model = d_model\n",
    "    self.num_layers = num_layers\n",
    "\n",
    "    self.pos_embedding = PositionalEmbedding(vocab_size=vocab_size,\n",
    "                                             d_model=d_model)\n",
    "    self.dropout = tf.keras.layers.Dropout(dropout_rate)\n",
    "    self.dec_layers = [\n",
    "        DecoderLayer(d_model=d_model, num_heads=num_heads,\n",
    "                     dff=dff, dropout_rate=dropout_rate)\n",
    "        for _ in range(num_layers)]\n",
    "\n",
    "    self.last_attn_scores = None\n",
    "\n",
    "  def call(self, x, context):\n",
    "    # `x` is token-IDs shape (batch, target_seq_len)\n",
    "    x = self.pos_embedding(x)  # (batch_size, target_seq_len, d_model)\n",
    "\n",
    "    x = self.dropout(x)\n",
    "\n",
    "    for i in range(self.num_layers):\n",
    "      x  = self.dec_layers[i](x, context)\n",
    "\n",
    "    self.last_attn_scores = self.dec_layers[-1].last_attn_scores\n",
    "\n",
    "    # The shape of x is (batch_size, target_seq_len, d_model).\n",
    "    return x\n"
   ]
  },
  {
   "cell_type": "code",
   "execution_count": 54,
   "metadata": {},
   "outputs": [],
   "source": [
    "class Transformer(tf.keras.Model):\n",
    "  def __init__(self, *, num_layers, d_model, num_heads, dff,\n",
    "               input_vocab_size, target_vocab_size, dropout_rate=0.1):\n",
    "    super().__init__()\n",
    "    self.encoder = Encoder(num_layers=num_layers, d_model=d_model,\n",
    "                           num_heads=num_heads, dff=dff,\n",
    "                           vocab_size=input_vocab_size,\n",
    "                           dropout_rate=dropout_rate)\n",
    "\n",
    "    self.decoder = Decoder(num_layers=num_layers, d_model=d_model,\n",
    "                           num_heads=num_heads, dff=dff,\n",
    "                           vocab_size=target_vocab_size,\n",
    "                           dropout_rate=dropout_rate)\n",
    "\n",
    "    self.final_layer = tf.keras.layers.Dense(target_vocab_size, activation='relu')\n",
    "\n",
    "  def call(self, inputs):\n",
    "    # To use a Keras model with `.fit` you must pass all your inputs in the\n",
    "    # first argument.\n",
    "    context, x  = inputs\n",
    "\n",
    "    context = self.encoder(context)  # (batch_size, context_len, d_model)\n",
    "\n",
    "    x = self.decoder(x, context)  # (batch_size, target_len, d_model)\n",
    "\n",
    "    # Final linear layer output.\n",
    "    logits = self.final_layer(x)  # (batch_size, target_len, target_vocab_size)\n",
    "\n",
    "    try:\n",
    "      # Drop the keras mask, so it doesn't scale the losses/metrics.\n",
    "      # b/250038731\n",
    "      del logits._keras_mask\n",
    "    except AttributeError:\n",
    "      pass\n",
    "\n",
    "    # Return the final output and the attention weights.\n",
    "    return logits\n"
   ]
  },
  {
   "cell_type": "markdown",
   "metadata": {},
   "source": [
    "## Training"
   ]
  },
  {
   "cell_type": "code",
   "execution_count": 55,
   "metadata": {},
   "outputs": [],
   "source": [
    "# Basic Config\n",
    "num_layers = 4\n",
    "d_model = 256\n",
    "dff = 256\n",
    "num_heads = 4\n",
    "dropout_rate = 0.2\n",
    "vocab_size_kr = len(indices_dict_kr.keys()) - 2\n",
    "vocab_size_en = len(indices_dict_en.keys()) - 2"
   ]
  },
  {
   "cell_type": "code",
   "execution_count": 56,
   "metadata": {},
   "outputs": [],
   "source": [
    "class CustomSchedule(tf.keras.optimizers.schedules.LearningRateSchedule):\n",
    "  def __init__(self, d_model, warmup_steps=40000):\n",
    "    super().__init__()\n",
    "\n",
    "    self.d_model = d_model\n",
    "    self.d_model = tf.cast(self.d_model, tf.float32)\n",
    "\n",
    "    self.warmup_steps = warmup_steps\n",
    "\n",
    "  def __call__(self, step):\n",
    "    step = tf.cast(step, dtype=tf.float32)\n",
    "    arg1 = tf.math.rsqrt(step)\n",
    "    arg2 = step * (self.warmup_steps ** -1.5)\n",
    "\n",
    "    return tf.math.rsqrt(self.d_model) * tf.math.minimum(arg1, arg2)\n"
   ]
  },
  {
   "cell_type": "code",
   "execution_count": 57,
   "metadata": {},
   "outputs": [
    {
     "name": "stderr",
     "output_type": "stream",
     "text": [
      "2022-12-12 21:30:34.831291: I tensorflow/core/platform/cpu_feature_guard.cc:193] This TensorFlow binary is optimized with oneAPI Deep Neural Network Library (oneDNN) to use the following CPU instructions in performance-critical operations:  SSE4.1 SSE4.2 AVX AVX2 AVX_VNNI FMA\n",
      "To enable them in other operations, rebuild TensorFlow with the appropriate compiler flags.\n",
      "2022-12-12 21:30:34.832872: I tensorflow/stream_executor/cuda/cuda_gpu_executor.cc:980] successful NUMA node read from SysFS had negative value (-1), but there must be at least one NUMA node, so returning NUMA node zero\n",
      "2022-12-12 21:30:34.833031: I tensorflow/stream_executor/cuda/cuda_gpu_executor.cc:980] successful NUMA node read from SysFS had negative value (-1), but there must be at least one NUMA node, so returning NUMA node zero\n",
      "2022-12-12 21:30:34.833085: I tensorflow/stream_executor/cuda/cuda_gpu_executor.cc:980] successful NUMA node read from SysFS had negative value (-1), but there must be at least one NUMA node, so returning NUMA node zero\n",
      "2022-12-12 21:30:35.128429: I tensorflow/stream_executor/cuda/cuda_gpu_executor.cc:980] successful NUMA node read from SysFS had negative value (-1), but there must be at least one NUMA node, so returning NUMA node zero\n",
      "2022-12-12 21:30:35.128542: I tensorflow/stream_executor/cuda/cuda_gpu_executor.cc:980] successful NUMA node read from SysFS had negative value (-1), but there must be at least one NUMA node, so returning NUMA node zero\n",
      "2022-12-12 21:30:35.128597: I tensorflow/stream_executor/cuda/cuda_gpu_executor.cc:980] successful NUMA node read from SysFS had negative value (-1), but there must be at least one NUMA node, so returning NUMA node zero\n",
      "2022-12-12 21:30:35.128652: I tensorflow/core/common_runtime/gpu/gpu_device.cc:1616] Created device /job:localhost/replica:0/task:0/device:GPU:0 with 13322 MB memory:  -> device: 0, name: NVIDIA GeForce RTX 3080 Ti Laptop GPU, pci bus id: 0000:01:00.0, compute capability: 8.6\n"
     ]
    }
   ],
   "source": [
    "learning_rate = CustomSchedule(d_model)\n",
    "\n",
    "optimizer = tf.keras.optimizers.Adam(learning_rate, beta_1=0.9, beta_2=0.98, epsilon=1e-9)\n",
    "# optimizer = tf.keras.optimizers.Adam(0.01, beta_1=0.9, beta_2=0.98, epsilon=1e-9, clipvalue=0.5)\n",
    "\n",
    "# optimizer = tf.keras.optimizers.experimental.RMSprop(learning_rate)\n",
    "# optimizer = tf.keras.optimizers.experimental.SGD(learning_rate)\n"
   ]
  },
  {
   "cell_type": "code",
   "execution_count": 58,
   "metadata": {},
   "outputs": [],
   "source": [
    "import matplotlib.pyplot as plt"
   ]
  },
  {
   "cell_type": "code",
   "execution_count": 59,
   "metadata": {},
   "outputs": [
    {
     "data": {
      "text/plain": [
       "Text(0.5, 0, 'Train Step')"
      ]
     },
     "execution_count": 59,
     "metadata": {},
     "output_type": "execute_result"
    },
    {
     "data": {
      "image/png": "[encoded data removed]",
      "text/plain": [
       "<Figure size 640x480 with 1 Axes>"
      ]
     },
     "metadata": {},
     "output_type": "display_data"
    }
   ],
   "source": [
    "plt.plot(learning_rate(tf.range(400000, dtype=tf.float32)))\n",
    "plt.ylabel('Learning Rate')\n",
    "plt.xlabel('Train Step')\n"
   ]
  },
  {
   "cell_type": "code",
   "execution_count": 60,
   "metadata": {},
   "outputs": [],
   "source": [
    "def masked_loss(label, pred):\n",
    "  mask = label != 0\n",
    "  loss_object = tf.keras.losses.SparseCategoricalCrossentropy(\n",
    "    from_logits=True)#, reduction='none')\n",
    "  loss = loss_object(label, pred)\n",
    "\n",
    "  mask = tf.cast(mask, dtype=loss.dtype)\n",
    "  loss *= mask\n",
    "\n",
    "  loss = tf.reduce_sum(loss)/tf.reduce_sum(mask)\n",
    "  return loss\n",
    "\n",
    "\n",
    "def masked_accuracy(label, pred):\n",
    "  pred = tf.argmax(pred, axis=2)\n",
    "  label = tf.cast(label, pred.dtype)\n",
    "  match = label == pred\n",
    "\n",
    "  mask = label != 0\n",
    "\n",
    "  match = match & mask\n",
    "\n",
    "  match = tf.cast(match, dtype=tf.float32)\n",
    "  mask = tf.cast(mask, dtype=tf.float32)\n",
    "  return tf.reduce_sum(match)/tf.reduce_sum(mask)\n"
   ]
  },
  {
   "cell_type": "markdown",
   "metadata": {},
   "source": [
    "# Train"
   ]
  },
  {
   "cell_type": "code",
   "execution_count": 61,
   "metadata": {},
   "outputs": [],
   "source": [
    "transformer = Transformer(\n",
    "    num_layers=num_layers,\n",
    "    d_model=d_model,\n",
    "    num_heads=num_heads,\n",
    "    dff=dff,\n",
    "    input_vocab_size= vocab_size_en,\n",
    "    target_vocab_size= vocab_size_kr,\n",
    "    dropout_rate=dropout_rate)\n"
   ]
  },
  {
   "cell_type": "code",
   "execution_count": 62,
   "metadata": {},
   "outputs": [],
   "source": [
    "# Train dataset\n",
    "x_en_train = tf.convert_to_tensor(x_en_train, dtype = tf.float32)\n",
    "y_kr_train = tf.convert_to_tensor(y_kr_train, dtype = tf.float32)\n",
    "x_kr_train = tf.convert_to_tensor(x_kr_train, dtype = tf.float32)\n",
    "# Test dataset\n",
    "x_en_test = tf.convert_to_tensor(x_en_test, dtype = tf.float32)\n",
    "x_kr_test = tf.convert_to_tensor(x_kr_test, dtype = tf.float32)\n",
    "y_kr_test = tf.convert_to_tensor(y_kr_test, dtype = tf.float32)"
   ]
  },
  {
   "cell_type": "code",
   "execution_count": 63,
   "metadata": {},
   "outputs": [],
   "source": [
    "train = tf.data.Dataset.from_tensor_slices(((x_en_train, x_kr_train), y_kr_train))"
   ]
  },
  {
   "cell_type": "code",
   "execution_count": 64,
   "metadata": {},
   "outputs": [
    {
     "name": "stderr",
     "output_type": "stream",
     "text": [
      "2022-12-12 21:30:36.948853: I tensorflow/stream_executor/cuda/cuda_blas.cc:1614] TensorFloat-32 will be used for the matrix multiplication. This will only be logged once.\n",
      "2022-12-12 21:30:37.044151: I tensorflow/stream_executor/cuda/cuda_dnn.cc:384] Loaded cuDNN version 8401\n"
     ]
    }
   ],
   "source": [
    "# So that it only knows the input shape\n",
    "output = transformer((x_en_train[0:1 , :], x_kr_train[0:1 , :]))"
   ]
  },
  {
   "cell_type": "code",
   "execution_count": 65,
   "metadata": {},
   "outputs": [
    {
     "name": "stdout",
     "output_type": "stream",
     "text": [
      "Model: \"transformer\"\n",
      "_________________________________________________________________\n",
      " Layer (type)                Output Shape              Param #   \n",
      "=================================================================\n",
      " encoder (Encoder)           multiple                  4744960   \n",
      "                                                                 \n",
      " decoder (Decoder)           multiple                  8958720   \n",
      "                                                                 \n",
      " dense_16 (Dense)            multiple                  11051     \n",
      "                                                                 \n",
      "=================================================================\n",
      "Total params: 13,714,731\n",
      "Trainable params: 13,714,731\n",
      "Non-trainable params: 0\n",
      "_________________________________________________________________\n"
     ]
    }
   ],
   "source": [
    "transformer.summary()\n"
   ]
  },
  {
   "cell_type": "code",
   "execution_count": 66,
   "metadata": {},
   "outputs": [],
   "source": [
    "transformer.compile(\n",
    "    loss=masked_loss,\n",
    "    optimizer=optimizer,\n",
    "    metrics=[masked_accuracy])"
   ]
  },
  {
   "cell_type": "code",
   "execution_count": 67,
   "metadata": {},
   "outputs": [
    {
     "name": "stdout",
     "output_type": "stream",
     "text": [
      "Epoch 1/100\n",
      "307/307 [==============================] - 15s 39ms/step - loss: 2.5209 - masked_accuracy: 0.0256 - val_loss: 1.5668 - val_masked_accuracy: 0.0914\n",
      "Epoch 2/100\n",
      "307/307 [==============================] - 11s 36ms/step - loss: 1.3800 - masked_accuracy: 0.1847 - val_loss: 1.1023 - val_masked_accuracy: 0.3360\n",
      "Epoch 3/100\n",
      "307/307 [==============================] - 11s 36ms/step - loss: 1.0652 - masked_accuracy: 0.3476 - val_loss: 0.9006 - val_masked_accuracy: 0.4509\n",
      "Epoch 4/100\n",
      "307/307 [==============================] - 11s 36ms/step - loss: 0.9027 - masked_accuracy: 0.4431 - val_loss: 0.7760 - val_masked_accuracy: 0.5173\n",
      "Epoch 5/100\n",
      "307/307 [==============================] - 11s 35ms/step - loss: 0.7854 - masked_accuracy: 0.5018 - val_loss: 0.6521 - val_masked_accuracy: 0.5829\n",
      "Epoch 6/100\n",
      "307/307 [==============================] - 11s 35ms/step - loss: 0.6410 - masked_accuracy: 0.5859 - val_loss: 0.4107 - val_masked_accuracy: 0.7263\n",
      "Epoch 7/100\n",
      "307/307 [==============================] - 11s 35ms/step - loss: 0.4531 - masked_accuracy: 0.7011 - val_loss: 0.2751 - val_masked_accuracy: 0.8227\n",
      "Epoch 8/100\n",
      "307/307 [==============================] - 11s 35ms/step - loss: 0.3457 - masked_accuracy: 0.7760 - val_loss: 0.2035 - val_masked_accuracy: 0.8749\n",
      "Epoch 9/100\n",
      "307/307 [==============================] - 11s 35ms/step - loss: 0.2692 - masked_accuracy: 0.8269 - val_loss: 0.1482 - val_masked_accuracy: 0.9099\n",
      "Epoch 10/100\n",
      "307/307 [==============================] - 11s 35ms/step - loss: 0.2082 - masked_accuracy: 0.8662 - val_loss: 0.1253 - val_masked_accuracy: 0.9226\n",
      "Epoch 11/100\n",
      "307/307 [==============================] - 11s 35ms/step - loss: 0.1693 - masked_accuracy: 0.8909 - val_loss: 0.0997 - val_masked_accuracy: 0.9413\n",
      "Epoch 12/100\n",
      "307/307 [==============================] - 11s 35ms/step - loss: 0.1414 - masked_accuracy: 0.9094 - val_loss: 0.0888 - val_masked_accuracy: 0.9473\n",
      "Epoch 13/100\n",
      "307/307 [==============================] - 11s 35ms/step - loss: 0.1220 - masked_accuracy: 0.9210 - val_loss: 0.0736 - val_masked_accuracy: 0.9577\n",
      "Epoch 14/100\n",
      "307/307 [==============================] - 11s 35ms/step - loss: 0.1082 - masked_accuracy: 0.9312 - val_loss: 0.0713 - val_masked_accuracy: 0.9580\n",
      "Epoch 15/100\n",
      "307/307 [==============================] - 11s 35ms/step - loss: 0.0958 - masked_accuracy: 0.9398 - val_loss: 0.0604 - val_masked_accuracy: 0.9651\n",
      "Epoch 16/100\n",
      "307/307 [==============================] - 11s 34ms/step - loss: 0.0858 - masked_accuracy: 0.9461 - val_loss: 0.0573 - val_masked_accuracy: 0.9669\n",
      "Epoch 17/100\n",
      "307/307 [==============================] - 11s 34ms/step - loss: 0.0775 - masked_accuracy: 0.9516 - val_loss: 0.0547 - val_masked_accuracy: 0.9698\n",
      "Epoch 18/100\n",
      "307/307 [==============================] - 11s 34ms/step - loss: 0.0717 - masked_accuracy: 0.9549 - val_loss: 0.0489 - val_masked_accuracy: 0.9723\n",
      "Epoch 19/100\n",
      "307/307 [==============================] - 11s 34ms/step - loss: 0.0662 - masked_accuracy: 0.9576 - val_loss: 0.0466 - val_masked_accuracy: 0.9746\n",
      "Epoch 20/100\n",
      "307/307 [==============================] - 11s 34ms/step - loss: 0.0626 - masked_accuracy: 0.9608 - val_loss: 0.0448 - val_masked_accuracy: 0.9745\n",
      "Epoch 21/100\n",
      "307/307 [==============================] - 11s 35ms/step - loss: 0.0585 - masked_accuracy: 0.9630 - val_loss: 0.0421 - val_masked_accuracy: 0.9763\n",
      "Epoch 22/100\n",
      "307/307 [==============================] - 11s 36ms/step - loss: 0.0537 - masked_accuracy: 0.9657 - val_loss: 0.0389 - val_masked_accuracy: 0.9784\n",
      "Epoch 23/100\n",
      "307/307 [==============================] - 10s 33ms/step - loss: 0.0504 - masked_accuracy: 0.9675 - val_loss: 0.0366 - val_masked_accuracy: 0.9789\n",
      "Epoch 24/100\n",
      "307/307 [==============================] - 11s 35ms/step - loss: 0.0484 - masked_accuracy: 0.9691 - val_loss: 0.0365 - val_masked_accuracy: 0.9786\n",
      "Epoch 25/100\n",
      "307/307 [==============================] - 11s 35ms/step - loss: 0.0459 - masked_accuracy: 0.9704 - val_loss: 0.0366 - val_masked_accuracy: 0.9774\n",
      "Epoch 26/100\n",
      "307/307 [==============================] - 11s 35ms/step - loss: 0.0434 - masked_accuracy: 0.9717 - val_loss: 0.0314 - val_masked_accuracy: 0.9820\n",
      "Epoch 27/100\n",
      "307/307 [==============================] - 10s 33ms/step - loss: 0.0395 - masked_accuracy: 0.9743 - val_loss: 0.0331 - val_masked_accuracy: 0.9808\n",
      "Epoch 28/100\n",
      "307/307 [==============================] - 11s 35ms/step - loss: 0.0384 - masked_accuracy: 0.9752 - val_loss: 0.0301 - val_masked_accuracy: 0.9824\n",
      "Epoch 29/100\n",
      "307/307 [==============================] - 10s 32ms/step - loss: 0.0364 - masked_accuracy: 0.9759 - val_loss: 0.0294 - val_masked_accuracy: 0.9819\n",
      "Epoch 30/100\n",
      "307/307 [==============================] - 10s 32ms/step - loss: 0.0346 - masked_accuracy: 0.9766 - val_loss: 0.0287 - val_masked_accuracy: 0.9830\n",
      "Epoch 31/100\n",
      "307/307 [==============================] - 10s 33ms/step - loss: 0.0326 - masked_accuracy: 0.9784 - val_loss: 0.0268 - val_masked_accuracy: 0.9843\n",
      "Epoch 32/100\n",
      "307/307 [==============================] - 10s 33ms/step - loss: 0.0308 - masked_accuracy: 0.9795 - val_loss: 0.0272 - val_masked_accuracy: 0.9830\n",
      "Epoch 33/100\n",
      "307/307 [==============================] - 11s 34ms/step - loss: 0.0301 - masked_accuracy: 0.9795 - val_loss: 0.0248 - val_masked_accuracy: 0.9855\n",
      "Epoch 34/100\n",
      "307/307 [==============================] - 11s 35ms/step - loss: 0.0291 - masked_accuracy: 0.9798 - val_loss: 0.0258 - val_masked_accuracy: 0.9837\n",
      "Epoch 35/100\n",
      "307/307 [==============================] - 11s 35ms/step - loss: 0.0276 - masked_accuracy: 0.9806 - val_loss: 0.0237 - val_masked_accuracy: 0.9852\n",
      "Epoch 36/100\n",
      "307/307 [==============================] - 11s 34ms/step - loss: 0.0264 - masked_accuracy: 0.9817 - val_loss: 0.0229 - val_masked_accuracy: 0.9854\n",
      "Epoch 37/100\n",
      "307/307 [==============================] - 11s 35ms/step - loss: 0.0257 - masked_accuracy: 0.9823 - val_loss: 0.0233 - val_masked_accuracy: 0.9853\n",
      "Epoch 38/100\n",
      "307/307 [==============================] - 10s 34ms/step - loss: 0.0247 - masked_accuracy: 0.9828 - val_loss: 0.0218 - val_masked_accuracy: 0.9868\n",
      "Epoch 39/100\n",
      "307/307 [==============================] - 11s 34ms/step - loss: 0.0239 - masked_accuracy: 0.9835 - val_loss: 0.0242 - val_masked_accuracy: 0.9859\n",
      "Epoch 40/100\n",
      "307/307 [==============================] - 11s 35ms/step - loss: 0.0241 - masked_accuracy: 0.9834 - val_loss: 0.0240 - val_masked_accuracy: 0.9850\n",
      "Epoch 41/100\n",
      "307/307 [==============================] - 11s 35ms/step - loss: 0.0222 - masked_accuracy: 0.9848 - val_loss: 0.0199 - val_masked_accuracy: 0.9872\n",
      "Epoch 42/100\n",
      "307/307 [==============================] - 11s 34ms/step - loss: 0.0221 - masked_accuracy: 0.9844 - val_loss: 0.0206 - val_masked_accuracy: 0.9870\n",
      "Epoch 43/100\n",
      "307/307 [==============================] - 11s 35ms/step - loss: 0.0211 - masked_accuracy: 0.9853 - val_loss: 0.0209 - val_masked_accuracy: 0.9871\n",
      "Epoch 44/100\n",
      "307/307 [==============================] - 10s 34ms/step - loss: 0.0201 - masked_accuracy: 0.9861 - val_loss: 0.0186 - val_masked_accuracy: 0.9888\n",
      "Epoch 45/100\n",
      "307/307 [==============================] - 11s 36ms/step - loss: 0.0206 - masked_accuracy: 0.9853 - val_loss: 0.0185 - val_masked_accuracy: 0.9887\n",
      "Epoch 46/100\n",
      "307/307 [==============================] - 11s 36ms/step - loss: 0.0194 - masked_accuracy: 0.9864 - val_loss: 0.0182 - val_masked_accuracy: 0.9894\n",
      "Epoch 47/100\n",
      "307/307 [==============================] - 11s 36ms/step - loss: 0.0190 - masked_accuracy: 0.9866 - val_loss: 0.0201 - val_masked_accuracy: 0.9877\n",
      "Epoch 48/100\n",
      "307/307 [==============================] - 11s 36ms/step - loss: 0.0191 - masked_accuracy: 0.9865 - val_loss: 0.0206 - val_masked_accuracy: 0.9875\n",
      "Epoch 49/100\n",
      "307/307 [==============================] - 11s 36ms/step - loss: 0.0178 - masked_accuracy: 0.9873 - val_loss: 0.0211 - val_masked_accuracy: 0.9885\n",
      "Epoch 50/100\n",
      "307/307 [==============================] - 11s 36ms/step - loss: 0.0177 - masked_accuracy: 0.9873 - val_loss: 0.0207 - val_masked_accuracy: 0.9877\n",
      "Epoch 51/100\n",
      "307/307 [==============================] - 11s 36ms/step - loss: 0.0180 - masked_accuracy: 0.9870 - val_loss: 0.0177 - val_masked_accuracy: 0.9893\n",
      "Epoch 52/100\n"
     ]
    },
    {
     "name": "stdout",
     "output_type": "stream",
     "text": [
      "307/307 [==============================] - 11s 36ms/step - loss: 0.0168 - masked_accuracy: 0.9880 - val_loss: 0.0177 - val_masked_accuracy: 0.9897\n",
      "Epoch 53/100\n",
      "307/307 [==============================] - 11s 37ms/step - loss: 0.0165 - masked_accuracy: 0.9882 - val_loss: 0.0177 - val_masked_accuracy: 0.9905\n",
      "Epoch 54/100\n",
      "307/307 [==============================] - 11s 35ms/step - loss: 0.0165 - masked_accuracy: 0.9884 - val_loss: 0.0195 - val_masked_accuracy: 0.9881\n",
      "Epoch 55/100\n",
      "307/307 [==============================] - 11s 35ms/step - loss: 0.0164 - masked_accuracy: 0.9885 - val_loss: 0.0174 - val_masked_accuracy: 0.9898\n",
      "Epoch 56/100\n",
      "307/307 [==============================] - 11s 35ms/step - loss: 0.0162 - masked_accuracy: 0.9881 - val_loss: 0.0173 - val_masked_accuracy: 0.9903\n",
      "Epoch 57/100\n",
      "307/307 [==============================] - 11s 35ms/step - loss: 0.0157 - masked_accuracy: 0.9889 - val_loss: 0.0206 - val_masked_accuracy: 0.9878\n",
      "Epoch 58/100\n",
      "307/307 [==============================] - 11s 35ms/step - loss: 0.0161 - masked_accuracy: 0.9885 - val_loss: 0.0190 - val_masked_accuracy: 0.9897\n",
      "Epoch 59/100\n",
      "307/307 [==============================] - 11s 35ms/step - loss: 0.0155 - masked_accuracy: 0.9890 - val_loss: 0.0164 - val_masked_accuracy: 0.9911\n",
      "Epoch 60/100\n",
      "307/307 [==============================] - 11s 35ms/step - loss: 0.0149 - masked_accuracy: 0.9891 - val_loss: 0.0195 - val_masked_accuracy: 0.9889\n",
      "Epoch 61/100\n",
      "307/307 [==============================] - 11s 35ms/step - loss: 0.0155 - masked_accuracy: 0.9890 - val_loss: 0.0199 - val_masked_accuracy: 0.9884\n",
      "Epoch 62/100\n",
      "307/307 [==============================] - 11s 35ms/step - loss: 0.0156 - masked_accuracy: 0.9891 - val_loss: 0.0194 - val_masked_accuracy: 0.9894\n",
      "Epoch 63/100\n",
      "307/307 [==============================] - 11s 36ms/step - loss: 0.0146 - masked_accuracy: 0.9895 - val_loss: 0.0198 - val_masked_accuracy: 0.9887\n",
      "Epoch 64/100\n",
      "307/307 [==============================] - 11s 34ms/step - loss: 0.0151 - masked_accuracy: 0.9892 - val_loss: 0.0184 - val_masked_accuracy: 0.9898\n",
      "Epoch 65/100\n",
      "307/307 [==============================] - 11s 36ms/step - loss: 0.0154 - masked_accuracy: 0.9893 - val_loss: 0.0168 - val_masked_accuracy: 0.9902\n",
      "Epoch 66/100\n",
      "307/307 [==============================] - 11s 36ms/step - loss: 0.0137 - masked_accuracy: 0.9904 - val_loss: 0.0159 - val_masked_accuracy: 0.9912\n",
      "Epoch 67/100\n",
      "307/307 [==============================] - 11s 36ms/step - loss: 0.0143 - masked_accuracy: 0.9900 - val_loss: 0.0166 - val_masked_accuracy: 0.9898\n",
      "Epoch 68/100\n",
      "307/307 [==============================] - 11s 36ms/step - loss: 0.0143 - masked_accuracy: 0.9898 - val_loss: 0.0166 - val_masked_accuracy: 0.9907\n",
      "Epoch 69/100\n",
      "307/307 [==============================] - 11s 36ms/step - loss: 0.0135 - masked_accuracy: 0.9905 - val_loss: 0.0168 - val_masked_accuracy: 0.9900\n",
      "Epoch 70/100\n",
      "307/307 [==============================] - 11s 36ms/step - loss: 0.0137 - masked_accuracy: 0.9904 - val_loss: 0.0184 - val_masked_accuracy: 0.9899\n",
      "Epoch 71/100\n",
      "307/307 [==============================] - 11s 36ms/step - loss: 0.0138 - masked_accuracy: 0.9898 - val_loss: 0.0185 - val_masked_accuracy: 0.9902\n",
      "Epoch 72/100\n",
      "307/307 [==============================] - 11s 36ms/step - loss: 0.0140 - masked_accuracy: 0.9901 - val_loss: 0.0178 - val_masked_accuracy: 0.9902\n",
      "Epoch 73/100\n",
      "307/307 [==============================] - 11s 36ms/step - loss: 0.0136 - masked_accuracy: 0.9905 - val_loss: 0.0200 - val_masked_accuracy: 0.9899\n",
      "Epoch 74/100\n",
      "307/307 [==============================] - 11s 36ms/step - loss: 0.0137 - masked_accuracy: 0.9904 - val_loss: 0.0168 - val_masked_accuracy: 0.9911\n",
      "Epoch 75/100\n",
      "307/307 [==============================] - 11s 36ms/step - loss: 0.0125 - masked_accuracy: 0.9911 - val_loss: 0.0155 - val_masked_accuracy: 0.9916\n",
      "Epoch 76/100\n",
      "307/307 [==============================] - 11s 36ms/step - loss: 0.0134 - masked_accuracy: 0.9907 - val_loss: 0.0157 - val_masked_accuracy: 0.9915\n",
      "Epoch 77/100\n",
      "307/307 [==============================] - 11s 36ms/step - loss: 0.0139 - masked_accuracy: 0.9901 - val_loss: 0.0191 - val_masked_accuracy: 0.9898\n",
      "Epoch 78/100\n",
      "307/307 [==============================] - 11s 36ms/step - loss: 0.0137 - masked_accuracy: 0.9905 - val_loss: 0.0168 - val_masked_accuracy: 0.9907\n",
      "Epoch 79/100\n",
      "307/307 [==============================] - 11s 36ms/step - loss: 0.0130 - masked_accuracy: 0.9908 - val_loss: 0.0175 - val_masked_accuracy: 0.9901\n",
      "Epoch 80/100\n",
      "307/307 [==============================] - 11s 36ms/step - loss: 0.0130 - masked_accuracy: 0.9909 - val_loss: 0.0178 - val_masked_accuracy: 0.9901\n",
      "Epoch 81/100\n",
      "307/307 [==============================] - 11s 36ms/step - loss: 0.0137 - masked_accuracy: 0.9901 - val_loss: 0.0169 - val_masked_accuracy: 0.9911\n",
      "Epoch 82/100\n",
      "307/307 [==============================] - 11s 36ms/step - loss: 0.0127 - masked_accuracy: 0.9910 - val_loss: 0.0160 - val_masked_accuracy: 0.9910\n",
      "Epoch 83/100\n",
      "307/307 [==============================] - 11s 36ms/step - loss: 0.0137 - masked_accuracy: 0.9902 - val_loss: 0.0166 - val_masked_accuracy: 0.9909\n",
      "Epoch 84/100\n",
      "307/307 [==============================] - 11s 37ms/step - loss: 0.0132 - masked_accuracy: 0.9909 - val_loss: 0.0175 - val_masked_accuracy: 0.9908\n",
      "Epoch 85/100\n",
      "307/307 [==============================] - 10s 33ms/step - loss: 0.0129 - masked_accuracy: 0.9908 - val_loss: 0.0164 - val_masked_accuracy: 0.9910\n",
      "Epoch 86/100\n",
      "307/307 [==============================] - 10s 32ms/step - loss: 0.0131 - masked_accuracy: 0.9909 - val_loss: 0.0183 - val_masked_accuracy: 0.9901\n",
      "Epoch 87/100\n",
      "307/307 [==============================] - 11s 35ms/step - loss: 0.0134 - masked_accuracy: 0.9906 - val_loss: 0.0183 - val_masked_accuracy: 0.9902\n",
      "Epoch 88/100\n",
      "307/307 [==============================] - 11s 35ms/step - loss: 0.0131 - masked_accuracy: 0.9907 - val_loss: 0.0175 - val_masked_accuracy: 0.9902\n",
      "Epoch 89/100\n",
      "307/307 [==============================] - 11s 35ms/step - loss: 0.0126 - masked_accuracy: 0.9911 - val_loss: 0.0174 - val_masked_accuracy: 0.9902\n",
      "Epoch 90/100\n",
      "307/307 [==============================] - 10s 33ms/step - loss: 0.0130 - masked_accuracy: 0.9909 - val_loss: 0.0172 - val_masked_accuracy: 0.9916\n",
      "Epoch 91/100\n",
      "307/307 [==============================] - 11s 35ms/step - loss: 0.0129 - masked_accuracy: 0.9910 - val_loss: 0.0174 - val_masked_accuracy: 0.9906\n",
      "Epoch 92/100\n",
      "307/307 [==============================] - 10s 34ms/step - loss: 0.0143 - masked_accuracy: 0.9903 - val_loss: 0.0166 - val_masked_accuracy: 0.9910\n",
      "Epoch 93/100\n",
      "307/307 [==============================] - 10s 33ms/step - loss: 0.0127 - masked_accuracy: 0.9911 - val_loss: 0.0176 - val_masked_accuracy: 0.9909\n",
      "Epoch 94/100\n",
      "307/307 [==============================] - 10s 34ms/step - loss: 0.0123 - masked_accuracy: 0.9913 - val_loss: 0.0174 - val_masked_accuracy: 0.9911\n",
      "Epoch 95/100\n",
      "307/307 [==============================] - 10s 32ms/step - loss: 0.0126 - masked_accuracy: 0.9910 - val_loss: 0.0164 - val_masked_accuracy: 0.9911\n",
      "Epoch 96/100\n",
      "307/307 [==============================] - 10s 33ms/step - loss: 0.0129 - masked_accuracy: 0.9909 - val_loss: 0.0146 - val_masked_accuracy: 0.9920\n",
      "Epoch 97/100\n",
      "307/307 [==============================] - 11s 35ms/step - loss: 0.0121 - masked_accuracy: 0.9913 - val_loss: 0.0158 - val_masked_accuracy: 0.9913\n",
      "Epoch 98/100\n",
      "307/307 [==============================] - 10s 33ms/step - loss: 0.0136 - masked_accuracy: 0.9905 - val_loss: 0.0147 - val_masked_accuracy: 0.9918\n",
      "Epoch 99/100\n",
      "307/307 [==============================] - 10s 34ms/step - loss: 0.0130 - masked_accuracy: 0.9911 - val_loss: 0.0160 - val_masked_accuracy: 0.9917\n",
      "Epoch 100/100\n",
      "307/307 [==============================] - 11s 37ms/step - loss: 0.0133 - masked_accuracy: 0.9906 - val_loss: 0.0162 - val_masked_accuracy: 0.9916\n"
     ]
    },
    {
     "data": {
      "text/plain": [
       "<keras.callbacks.History at 0x7f90bc5cbb80>"
      ]
     },
     "execution_count": 67,
     "metadata": {},
     "output_type": "execute_result"
    }
   ],
   "source": [
    "batch_size = 32\n",
    "epochs = 100\n",
    "ds = train.batch(batch_size, drop_remainder=True)\n",
    "# transformer.fit(x = (x_en_train, x_kr_train), y= y_kr_train,\n",
    "transformer.fit(x = ds,\n",
    "#                 batch_size=batch_size,\n",
    "                epochs=epochs,\n",
    "                validation_data = ((x_en_test, x_kr_test), y_kr_test))"
   ]
  },
  {
   "cell_type": "code",
   "execution_count": 70,
   "metadata": {},
   "outputs": [],
   "source": [
    "transformer.save_weights('./checkpoints/my_checkpoint')"
   ]
  },
  {
   "cell_type": "code",
   "execution_count": 71,
   "metadata": {},
   "outputs": [],
   "source": [
    "def translate_main(model, indices_dict, reversed_dict, string):\n",
    "    output_list = []\n",
    "    idx_list = []\n",
    "    string = char_to_idx(string, indices_dict)\n",
    "    string = get_padded_arr([string], en_data_max)\n",
    "    string = tf.convert_to_tensor(string, dtype=tf.float32)\n",
    "    output = tf.constant(1, dtype=tf.float32, shape=(1, 1)) # value = 1 => \"<sos>\"\n",
    "    counter = 0 # For safety\n",
    "    while True:\n",
    "        if counter > 100:\n",
    "            print(\"Something went wrong with the input\")\n",
    "            break\n",
    "        prediction = transformer([string, output], training=False)\n",
    "        ind_predicted = np.argmax(prediction[:, -1, :]) # Always capture the last prediction's argmax. \n",
    "        if ind_predicted == 2: # 2 is \"<eos>\"\n",
    "            return join_jamos(output_list)\n",
    "        else:\n",
    "            output_list.append(reversed_dict[ind_predicted])\n",
    "            idx_list.append(ind_predicted)\n",
    "            output = tf.expand_dims(tf.convert_to_tensor(idx_list, dtype=tf.float32), 0)\n",
    "        counter += 1"
   ]
  },
  {
   "cell_type": "code",
   "execution_count": 72,
   "metadata": {},
   "outputs": [],
   "source": [
    "from functools import partial\n",
    "translate_kr_en = partial(translate_main, transformer, indices_dict_en, reversed_dict_kr)"
   ]
  },
  {
   "cell_type": "code",
   "execution_count": 73,
   "metadata": {},
   "outputs": [
    {
     "data": {
      "text/plain": [
       "'하준'"
      ]
     },
     "execution_count": 73,
     "metadata": {},
     "output_type": "execute_result"
    }
   ],
   "source": [
    "translate_kr_en(\"hajun\")"
   ]
  },
  {
   "cell_type": "code",
   "execution_count": 74,
   "metadata": {},
   "outputs": [],
   "source": [
    "testing = [\"hajun\", \"jeon-hye-woong\", \"haeangil\", \"apeum\", \"gangnam\", \"africa\", \"aprica\", \"papri-ka\", \"seocho\", \"galwolilgil\"]"
   ]
  },
  {
   "cell_type": "code",
   "execution_count": 75,
   "metadata": {},
   "outputs": [
    {
     "name": "stdout",
     "output_type": "stream",
     "text": [
      "하준\n",
      "전혜고원\n",
      "해안길\n",
      "아픔\n",
      "강남\n",
      "아리리차\n",
      "압리차\n",
      "팝리가\n",
      "서초\n",
      "갈월릴길\n"
     ]
    }
   ],
   "source": [
    "for token in testing:\n",
    "    print(translate_kr_en(token))"
   ]
  },
  {
   "cell_type": "code",
   "execution_count": null,
   "metadata": {},
   "outputs": [],
   "source": []
  },
  {
   "cell_type": "code",
   "execution_count": null,
   "metadata": {},
   "outputs": [],
   "source": []
  }
 ],
 "metadata": {
  "kernelspec": {
   "display_name": "Python 3 (ipykernel)",
   "language": "python",
   "name": "python3"
  },
  "language_info": {
   "codemirror_mode": {
    "name": "ipython",
    "version": 3
   },
   "file_extension": ".py",
   "mimetype": "text/x-python",
   "name": "python",
   "nbconvert_exporter": "python",
   "pygments_lexer": "ipython3",
   "version": "3.9.12"
  },
  "vscode": {
   "interpreter": {
    "hash": "266608b04208d70543cb49c8748fa82829af85a97fbaee1332ca8e44492d567f"
   }
  }
 },
 "nbformat": 4,
 "nbformat_minor": 2
}
